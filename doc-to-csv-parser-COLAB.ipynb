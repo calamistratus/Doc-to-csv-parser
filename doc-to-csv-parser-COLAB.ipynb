{
  "cells": [
    {
      "cell_type": "markdown",
      "metadata": {
        "id": "view-in-github",
        "colab_type": "text"
      },
      "source": [
        "<a href=\"https://colab.research.google.com/github/calamistratus/Doc_to_csv_parser/blob/main/doc-to-csv-parser-COLAB.ipynb\" target=\"_parent\"><img src=\"https://colab.research.google.com/assets/colab-badge.svg\" alt=\"Open In Colab\"/></a>"
      ]
    },
    {
      "cell_type": "code",
      "execution_count": null,
      "id": "c51b63ab-3f7f-434f-855e-d297f7690cbe",
      "metadata": {
        "id": "c51b63ab-3f7f-434f-855e-d297f7690cbe"
      },
      "outputs": [],
      "source": [
        "import requests\n",
        "import os\n",
        "import numpy as np\n",
        "import pandas as pd\n",
        "\n",
        "from pypdf import PdfReader\n",
        "from tqdm import tqdm\n",
        "\n",
        "import doc2pdf"
      ]
    },
    {
      "cell_type": "code",
      "execution_count": null,
      "id": "3df61f39-e884-4e13-a848-a9205634d2db",
      "metadata": {
        "id": "3df61f39-e884-4e13-a848-a9205634d2db"
      },
      "outputs": [],
      "source": [
        "API_KEY = input('Input your API key: ')\n",
        "\n",
        "url = 'https://api.deepseek.com/chat/completions'\n",
        "\n",
        "headers = {\n",
        "    'Content-Type': 'application/json',\n",
        "    'Authorization': f'Bearer {API_KEY}'\n",
        "}\n",
        "\n",
        "baseline_promt = '''CREATE TABLE resumes (\n",
        "first_name VARCHAR, # Always in English\n",
        "second_name VARCHAR, # Always in English\n",
        "third_name VARCHAR, # Always in English\n",
        "gender CHAR, # m/f/o(for other)\n",
        "citizenship CHAR, # Always 2 English letters (for example RU or KZ)\n",
        "relocation_willingness SMALLINT, #0-not_ready, 1-ready, 2-other\n",
        "phone BIGINT,\n",
        "email VARCHAR,\n",
        "github VARHCAR, # Github link\n",
        "tg VARCHAR, # A telegram username, example: '@pavel123'\n",
        "age SMALLINT,\n",
        "languages JSONB, # A1-1, A2-2, B1-3, B2-4, C1-5, C2-6, NATIVE-6, example: '{\"EN\":6, \"RU\":1}'\n",
        "stack JSONB, # Candidates skills, example: '[\"scikit-learn\", \"sql\"]'\n",
        "experience REAL, # Amount of years of expirience, for example: 2 years and 6 months: 2.5\n",
        "desired_position VARCHAR, # Data Scientist, for example\n",
        "city VARCHAR, # In English, lowercase\n",
        "wanted_salary INT, # Parse this from resume\n",
        "estimated_salary INT, # Your take on what candidate's salary should be\n",
        "education_level VARCHAR, # Few words, PhD or Master's degree and etc., in English\n",
        "education_analysis VARCHAR, # List the candidate's education, courses, briefly analyze it\n",
        "experience_analysis VARCHAR, # Your expirience analysys, companies the candidate has worked in, pet projects\n",
        "salary_analysis VARCHAR, # Your salary analysis, why have you chosen this amount\n",
        "overall_analysis VARCHAR, # Your overall analysis\n",
        "contacted SMALLINT # Always 0\n",
        ")\n",
        "\n",
        "Parse the following files into python dict within the format detailed above. Write no comments'''"
      ]
    },
    {
      "cell_type": "code",
      "execution_count": null,
      "id": "128031a2-9646-4286-a393-d991fa227aba",
      "metadata": {
        "id": "128031a2-9646-4286-a393-d991fa227aba"
      },
      "outputs": [],
      "source": [
        "def call(promt):\n",
        "    data = {\n",
        "    'model': 'deepseek-chat',\n",
        "    'messages': [\n",
        "        {'role': 'system', 'content': 'You are a professional assistant'},\n",
        "        {'role': 'user', 'content': promt if type(promt) is str else ' '.join(promt)}\n",
        "    ],\n",
        "    'stream': False,\n",
        "    'temperature':.4}\n",
        "\n",
        "    response = requests.post(url, headers=headers, json=data)\n",
        "\n",
        "    if response.status_code == 200:\n",
        "        result = response.json()\n",
        "        return result['choices'][0]['message']['content']\n",
        "    else:\n",
        "        print('Request failed, error code:', response.status_code)"
      ]
    },
    {
      "cell_type": "code",
      "execution_count": null,
      "id": "c481620c-557f-4dfe-993f-bbf403d98567",
      "metadata": {
        "id": "c481620c-557f-4dfe-993f-bbf403d98567"
      },
      "outputs": [],
      "source": [
        "def get_text(file_name):\n",
        "    doc2pdf.convert(file_name)\n",
        "    pdf_file_name = file_name.replace('.doc', '.pdf')\n",
        "    reader = PdfReader(pdf_file_name)\n",
        "\n",
        "    text = ''\n",
        "    for page in reader.pages:\n",
        "        text += page.extract_text().strip() + '\\n'\n",
        "    os.remove(pdf_file_name)\n",
        "    for i in ['\\u2006', '    ', '— ', '- ', '• ']: #\n",
        "        text = text.replace(i, '')\n",
        "    text = text.replace('\\n', '|')\n",
        "    return text"
      ]
    },
    {
      "cell_type": "code",
      "execution_count": null,
      "id": "7ff9945f-d53c-4d03-a0b5-75df26286d60",
      "metadata": {
        "id": "7ff9945f-d53c-4d03-a0b5-75df26286d60"
      },
      "outputs": [],
      "source": [
        "def parse_doc(file_name):\n",
        "    text = call((baseline_promt, get_text(file_name)))\n",
        "    for i in ['```', '\\n', '   ', 'python']:\n",
        "        text = text.replace(i, '')\n",
        "    text = text.replace('null', 'np.NaN')\n",
        "    return eval(text)"
      ]
    },
    {
      "cell_type": "code",
      "execution_count": null,
      "id": "4bdca5e1-2e9e-4279-826a-51cbaee4661a",
      "metadata": {
        "scrolled": true,
        "id": "4bdca5e1-2e9e-4279-826a-51cbaee4661a"
      },
      "outputs": [],
      "source": [
        "path = input('Input the path to where the resumes are located: ')\n",
        "file_names = os.listdir(path)\n",
        "\n",
        "vcs = []\n",
        "errors = []\n",
        "for i in tqdm(file_names):\n",
        "    file_name = os.path.join(path,  i)\n",
        "    try:\n",
        "        vcs.append(parse_doc(file_name))\n",
        "    except:\n",
        "        errors.append(file_name)"
      ]
    },
    {
      "cell_type": "code",
      "execution_count": null,
      "id": "83c8c79f-2c27-40c8-8624-9290ac521042",
      "metadata": {
        "id": "83c8c79f-2c27-40c8-8624-9290ac521042"
      },
      "outputs": [],
      "source": [
        "pd.DataFrame(vcs).to_csv('resumes_parsed.csv', index=False)"
      ]
    }
  ],
  "metadata": {
    "kernelspec": {
      "display_name": "Python 3 (ipykernel)",
      "language": "python",
      "name": "python3"
    },
    "language_info": {
      "codemirror_mode": {
        "name": "ipython",
        "version": 3
      },
      "file_extension": ".py",
      "mimetype": "text/x-python",
      "name": "python",
      "nbconvert_exporter": "python",
      "pygments_lexer": "ipython3",
      "version": "3.13.3"
    },
    "colab": {
      "provenance": [],
      "include_colab_link": true
    }
  },
  "nbformat": 4,
  "nbformat_minor": 5
}